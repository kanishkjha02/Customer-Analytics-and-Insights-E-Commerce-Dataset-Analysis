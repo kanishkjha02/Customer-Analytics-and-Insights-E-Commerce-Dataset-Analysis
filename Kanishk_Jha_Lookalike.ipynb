{
  "nbformat": 4,
  "nbformat_minor": 0,
  "metadata": {
    "colab": {
      "provenance": []
    },
    "kernelspec": {
      "name": "python3",
      "display_name": "Python 3"
    },
    "language_info": {
      "name": "python"
    }
  },
  "cells": [
    {
      "cell_type": "code",
      "execution_count": 1,
      "metadata": {
        "id": "6nFS27pZXhUp"
      },
      "outputs": [],
      "source": [
        "# Imports\n",
        "import pandas as pd\n",
        "from sklearn.metrics.pairwise import cosine_similarity\n",
        "from sklearn.preprocessing import StandardScaler, OneHotEncoder\n",
        "import numpy as np"
      ]
    },
    {
      "cell_type": "code",
      "source": [
        "# Step 1: Load Data\n",
        "customers = pd.read_csv(\"/content/Customers.csv\")\n",
        "products = pd.read_csv(\"/content/Products.csv\")\n",
        "transactions = pd.read_csv(\"/content/Transactions.csv\")"
      ],
      "metadata": {
        "id": "RKOnjhKpYa9t"
      },
      "execution_count": 2,
      "outputs": []
    },
    {
      "cell_type": "code",
      "source": [
        "# Step 2: Preprocess Data\n",
        "# Merge datasets to get a unified view\n",
        "merged_data = transactions.merge(customers, on=\"CustomerID\").merge(products, on=\"ProductID\")"
      ],
      "metadata": {
        "id": "UA64QOsDYjxb"
      },
      "execution_count": 3,
      "outputs": []
    },
    {
      "cell_type": "code",
      "source": [
        "# Step 3: Feature Engineering\n",
        "# Aggregate features for each customer\n",
        "customer_features = merged_data.groupby(\"CustomerID\").agg(\n",
        "    total_spend=(\"TotalValue\", \"sum\"),\n",
        "    avg_spend=(\"TotalValue\", \"mean\"),\n",
        "    transaction_count=(\"TransactionID\", \"count\"),\n",
        "    preferred_category=(\"Category\", lambda x: x.mode()[0]),\n",
        "    region=(\"Region\", \"first\")\n",
        ").reset_index()\n",
        "\n",
        "# Encode categorical features (Region and Preferred Category)\n",
        "categorical_features = [\"preferred_category\", \"region\"]\n",
        "ohe = OneHotEncoder()\n",
        "categorical_encoded = ohe.fit_transform(customer_features[categorical_features]).toarray()\n",
        "\n",
        "# Standardize numerical features (total_spend, avg_spend, transaction_count)\n",
        "numerical_features = [\"total_spend\", \"avg_spend\", \"transaction_count\"]\n",
        "scaler = StandardScaler()\n",
        "numerical_scaled = scaler.fit_transform(customer_features[numerical_features])\n",
        "\n",
        "# Combine numerical and categorical features\n",
        "final_features = np.hstack((numerical_scaled, categorical_encoded))"
      ],
      "metadata": {
        "id": "S98eADlmYoD3"
      },
      "execution_count": 4,
      "outputs": []
    },
    {
      "cell_type": "code",
      "source": [
        "# Step 4: Compute Similarity\n",
        "# Compute cosine similarity between all customers\n",
        "similarity_matrix = cosine_similarity(final_features)"
      ],
      "metadata": {
        "id": "AJ6TE8j-Ys8I"
      },
      "execution_count": 5,
      "outputs": []
    },
    {
      "cell_type": "code",
      "source": [
        "# Step 5: Generate Lookalike Recommendations\n",
        "lookalike_map = {}\n",
        "for idx, customer_id in enumerate(customer_features[\"CustomerID\"]):\n",
        "    # Get similarity scores for the current customer\n",
        "    similarity_scores = list(enumerate(similarity_matrix[idx]))\n",
        "    # Exclude the customer itself and sort by similarity\n",
        "    similarity_scores = sorted(\n",
        "        [(i, score) for i, score in similarity_scores if i != idx], key=lambda x: x[1], reverse=True\n",
        "    )\n",
        "    # Get top 3 similar customers\n",
        "    top_3 = [(customer_features[\"CustomerID\"].iloc[i], score) for i, score in similarity_scores[:3]]\n",
        "    lookalike_map[customer_id] = top_3"
      ],
      "metadata": {
        "id": "0Vjsvmj4YxQu"
      },
      "execution_count": 6,
      "outputs": []
    },
    {
      "cell_type": "code",
      "source": [
        "# Step 6: Save Results\n",
        "# Prepare the Lookalike.csv\n",
        "lookalike_df = pd.DataFrame([\n",
        "    {\"cust_id\": cust_id, \"similar_customers\": top_3}\n",
        "    for cust_id, top_3 in lookalike_map.items()\n",
        "])\n",
        "lookalike_df.to_csv(\"Kanishk_Jha_Lookalike.csv\", index=False)"
      ],
      "metadata": {
        "id": "tPih81LjY1Ny"
      },
      "execution_count": 7,
      "outputs": []
    },
    {
      "cell_type": "code",
      "source": [
        "# Step 7: Evaluation\n",
        "# Check recommendations for the first 20 customers\n",
        "def evaluate_lookalikes(customer_ids, lookalike_map):\n",
        "    for cust_id in customer_ids:\n",
        "        print(f\"Customer ID: {cust_id}\")\n",
        "        print(\"Top 3 Lookalikes:\")\n",
        "        for similar_cust, score in lookalike_map.get(cust_id, []):\n",
        "            print(f\"  {similar_cust} with similarity score: {score:.2f}\")\n",
        "        print(\"\\n\")\n",
        "\n",
        "# Evaluate for customers C0001 to C0020\n",
        "evaluate_lookalikes(customer_features[\"CustomerID\"].iloc[:20], lookalike_map)"
      ],
      "metadata": {
        "colab": {
          "base_uri": "https://localhost:8080/"
        },
        "id": "FerYT01MY5Ge",
        "outputId": "327e70a5-a0d5-49dc-94de-c5cb6a7c61c8"
      },
      "execution_count": 8,
      "outputs": [
        {
          "output_type": "stream",
          "name": "stdout",
          "text": [
            "Customer ID: C0001\n",
            "Top 3 Lookalikes:\n",
            "  C0190 with similarity score: 0.97\n",
            "  C0048 with similarity score: 0.94\n",
            "  C0181 with similarity score: 0.91\n",
            "\n",
            "\n",
            "Customer ID: C0002\n",
            "Top 3 Lookalikes:\n",
            "  C0088 with similarity score: 0.97\n",
            "  C0134 with similarity score: 0.94\n",
            "  C0106 with similarity score: 0.90\n",
            "\n",
            "\n",
            "Customer ID: C0003\n",
            "Top 3 Lookalikes:\n",
            "  C0052 with similarity score: 0.98\n",
            "  C0152 with similarity score: 0.93\n",
            "  C0031 with similarity score: 0.89\n",
            "\n",
            "\n",
            "Customer ID: C0004\n",
            "Top 3 Lookalikes:\n",
            "  C0165 with similarity score: 0.97\n",
            "  C0155 with similarity score: 0.96\n",
            "  C0169 with similarity score: 0.89\n",
            "\n",
            "\n",
            "Customer ID: C0005\n",
            "Top 3 Lookalikes:\n",
            "  C0186 with similarity score: 0.98\n",
            "  C0146 with similarity score: 0.96\n",
            "  C0007 with similarity score: 0.90\n",
            "\n",
            "\n",
            "Customer ID: C0006\n",
            "Top 3 Lookalikes:\n",
            "  C0168 with similarity score: 0.97\n",
            "  C0171 with similarity score: 0.95\n",
            "  C0187 with similarity score: 0.94\n",
            "\n",
            "\n",
            "Customer ID: C0007\n",
            "Top 3 Lookalikes:\n",
            "  C0140 with similarity score: 0.98\n",
            "  C0115 with similarity score: 0.93\n",
            "  C0005 with similarity score: 0.90\n",
            "\n",
            "\n",
            "Customer ID: C0008\n",
            "Top 3 Lookalikes:\n",
            "  C0109 with similarity score: 0.87\n",
            "  C0139 with similarity score: 0.81\n",
            "  C0098 with similarity score: 0.79\n",
            "\n",
            "\n",
            "Customer ID: C0009\n",
            "Top 3 Lookalikes:\n",
            "  C0010 with similarity score: 0.98\n",
            "  C0198 with similarity score: 0.95\n",
            "  C0062 with similarity score: 0.93\n",
            "\n",
            "\n",
            "Customer ID: C0010\n",
            "Top 3 Lookalikes:\n",
            "  C0009 with similarity score: 0.98\n",
            "  C0111 with similarity score: 0.97\n",
            "  C0103 with similarity score: 0.96\n",
            "\n",
            "\n",
            "Customer ID: C0011\n",
            "Top 3 Lookalikes:\n",
            "  C0137 with similarity score: 0.96\n",
            "  C0169 with similarity score: 0.92\n",
            "  C0126 with similarity score: 0.92\n",
            "\n",
            "\n",
            "Customer ID: C0012\n",
            "Top 3 Lookalikes:\n",
            "  C0104 with similarity score: 0.97\n",
            "  C0113 with similarity score: 0.93\n",
            "  C0195 with similarity score: 0.91\n",
            "\n",
            "\n",
            "Customer ID: C0013\n",
            "Top 3 Lookalikes:\n",
            "  C0099 with similarity score: 0.99\n",
            "  C0108 with similarity score: 0.92\n",
            "  C0141 with similarity score: 0.84\n",
            "\n",
            "\n",
            "Customer ID: C0014\n",
            "Top 3 Lookalikes:\n",
            "  C0060 with similarity score: 0.98\n",
            "  C0151 with similarity score: 0.91\n",
            "  C0097 with similarity score: 0.90\n",
            "\n",
            "\n",
            "Customer ID: C0015\n",
            "Top 3 Lookalikes:\n",
            "  C0036 with similarity score: 0.98\n",
            "  C0131 with similarity score: 0.97\n",
            "  C0058 with similarity score: 0.84\n",
            "\n",
            "\n",
            "Customer ID: C0016\n",
            "Top 3 Lookalikes:\n",
            "  C0183 with similarity score: 1.00\n",
            "  C0067 with similarity score: 0.92\n",
            "  C0042 with similarity score: 0.75\n",
            "\n",
            "\n",
            "Customer ID: C0017\n",
            "Top 3 Lookalikes:\n",
            "  C0075 with similarity score: 0.97\n",
            "  C0081 with similarity score: 0.86\n",
            "  C0057 with similarity score: 0.85\n",
            "\n",
            "\n",
            "Customer ID: C0018\n",
            "Top 3 Lookalikes:\n",
            "  C0117 with similarity score: 0.95\n",
            "  C0185 with similarity score: 0.84\n",
            "  C0046 with similarity score: 0.83\n",
            "\n",
            "\n",
            "Customer ID: C0019\n",
            "Top 3 Lookalikes:\n",
            "  C0121 with similarity score: 0.90\n",
            "  C0081 with similarity score: 0.83\n",
            "  C0119 with similarity score: 0.78\n",
            "\n",
            "\n",
            "Customer ID: C0020\n",
            "Top 3 Lookalikes:\n",
            "  C0050 with similarity score: 0.85\n",
            "  C0140 with similarity score: 0.84\n",
            "  C0130 with similarity score: 0.76\n",
            "\n",
            "\n"
          ]
        }
      ]
    }
  ]
}